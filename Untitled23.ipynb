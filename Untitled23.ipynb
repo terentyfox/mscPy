{
  "nbformat": 4,
  "nbformat_minor": 0,
  "metadata": {
    "colab": {
      "name": "Untitled23.ipynb",
      "provenance": [],
      "collapsed_sections": [],
      "authorship_tag": "ABX9TyOHR4POVJZBVzzT+789uzmR",
      "include_colab_link": true
    },
    "kernelspec": {
      "name": "python3",
      "display_name": "Python 3"
    },
    "language_info": {
      "name": "python"
    }
  },
  "cells": [
    {
      "cell_type": "markdown",
      "metadata": {
        "id": "view-in-github",
        "colab_type": "text"
      },
      "source": [
        "<a href=\"https://colab.research.google.com/github/terentyfox/mscPy/blob/main/Untitled23.ipynb\" target=\"_parent\"><img src=\"https://colab.research.google.com/assets/colab-badge.svg\" alt=\"Open In Colab\"/></a>"
      ]
    },
    {
      "cell_type": "code",
      "execution_count": null,
      "metadata": {
        "id": "i8x0nDXCWsYM"
      },
      "outputs": [],
      "source": [
        "def aa(i, ch):\n",
        "    ans = []\n",
        "    for j in range(i, -1, -1):\n",
        "        if i % ch ** j == 0:\n",
        "            return j\n",
        "\n",
        "a, b, p, q = map(int, input().split())\n",
        "c = 0\n",
        "for n in range(a, b + 1):\n",
        "    if aa(n, p) > aa(n, q):\n",
        "        c += 1\n",
        "print(c)"
      ]
    }
  ]
}